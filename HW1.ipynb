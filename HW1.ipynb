{
  "nbformat": 4,
  "nbformat_minor": 0,
  "metadata": {
    "colab": {
      "provenance": [],
      "authorship_tag": "ABX9TyOJl7rGTL+Lgoso0PFKL7sS",
      "include_colab_link": true
    },
    "kernelspec": {
      "name": "python3",
      "display_name": "Python 3"
    },
    "language_info": {
      "name": "python"
    }
  },
  "cells": [
    {
      "cell_type": "markdown",
      "metadata": {
        "id": "view-in-github",
        "colab_type": "text"
      },
      "source": [
        "<a href=\"https://colab.research.google.com/github/KuangZheLiu/Practice_project/blob/main/HW1.ipynb\" target=\"_parent\"><img src=\"https://colab.research.google.com/assets/colab-badge.svg\" alt=\"Open In Colab\"/></a>"
      ]
    },
    {
      "cell_type": "code",
      "execution_count": null,
      "metadata": {
        "id": "-M0OjR_viYhI"
      },
      "outputs": [],
      "source": [
        "import requests\n",
        "\n",
        "r1 = requests.get(\n",
        "    \"http://teaching.bo-yuan.net/test/requests/\",\n",
        "    headers={\n",
        "        \"User-Agent\":\"Mozilla/5.0 (Windows NT 10.0; Win64; x64) AppleWebKit/537.36 (KHTML, like Gecko) Chrome/114.0.0.0 Safari/537.36\",\n",
        "        \"Cookie\":\"PHPSESSID=akt682ue131k0de99m1pk78jh1\",\n",
        "        },\n",
        "    params={\n",
        "        \"action\":\"action\"\n",
        "    }\n",
        "    )\n",
        "\n",
        "r2 = requests.delete(\n",
        "    \"http://teaching.bo-yuan.net/test/requests/\",\n",
        "    headers={\n",
        "        \"User-Agent\":\"Mozilla/5.0 (Windows NT 10.0; Win64; x64) AppleWebKit/537.36 (KHTML, like Gecko) Chrome/114.0.0.0 Safari/537.36\",\n",
        "        \"Cookie\":\"PHPSESSID=akt682ue131k0de99m1pk78jh1\",\n",
        "        },\n",
        "    params={\n",
        "        \"action\":\"action\"\n",
        "    },\n",
        "    data={\n",
        "        \"id\":\"id\"\n",
        "    }\n",
        "    )\n",
        "\n",
        "r3 = requests.put(\n",
        "    \"http://teaching.bo-yuan.net/test/requests/\",\n",
        "    headers={\n",
        "        \"User-Agent\":\"Mozilla/5.0 (Windows NT 10.0; Win64; x64) AppleWebKit/537.36 (KHTML, like Gecko) Chrome/114.0.0.0 Safari/537.36\",\n",
        "        \"Cookie\":\"PHPSESSID=akt682ue131k0de99m1pk78jh1\",\n",
        "        },\n",
        "    params={\n",
        "        \"action\":\"action\"\n",
        "    },\n",
        "    data={\n",
        "        \"id\":\"id\",\n",
        "        \"name\":\"name\"\n",
        "    }\n",
        "    )\n",
        "\n",
        "r4 = requests.patch(\n",
        "    \"http://teaching.bo-yuan.net/test/requests/\",\n",
        "    headers={\n",
        "        \"User-Agent\":\"Mozilla/5.0 (Windows NT 10.0; Win64; x64) AppleWebKit/537.36 (KHTML, like Gecko) Chrome/114.0.0.0 Safari/537.36\",\n",
        "        \"Cookie\":\"PHPSESSID=akt682ue131k0de99m1pk78jh1\",\n",
        "        },\n",
        "    params={\n",
        "        \"action\":\"action\"\n",
        "    },\n",
        "    data={\n",
        "        \"id\":\"id\",\n",
        "        \"name\":\"name\",\n",
        "        \"address\":\"address\"\n",
        "    }\n",
        "    )\n",
        "r5 = requests.post(\n",
        "    \"http://teaching.bo-yuan.net/test/requests/\",\n",
        "    headers={\n",
        "        \"User-Agent\":\"Mozilla/5.0 (Windows NT 10.0; Win64; x64) AppleWebKit/537.36 (KHTML, like Gecko) Chrome/114.0.0.0 Safari/537.36\",\n",
        "        \"Cookie\":\"PHPSESSID=akt682ue131k0de99m1pk78jh1\",\n",
        "        },\n",
        "    params={\n",
        "        \"action\":\"action\"\n",
        "    },\n",
        "    data={\n",
        "        \"id\":\"id\",\n",
        "        \"name\":\"name\",\n",
        "        \"address\":\"address\"\n",
        "    }\n",
        "    )\n",
        "print(r1.text)\n",
        "print(r2.text)\n",
        "print(r3.text)\n",
        "print(r4.text)\n",
        "print(r5.text)"
      ]
    }
  ]
}