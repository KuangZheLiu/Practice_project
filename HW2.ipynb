{
  "nbformat": 4,
  "nbformat_minor": 0,
  "metadata": {
    "colab": {
      "provenance": [],
      "authorship_tag": "ABX9TyOwmALOjyfd2rA77Hi1FQvf",
      "include_colab_link": true
    },
    "kernelspec": {
      "name": "python3",
      "display_name": "Python 3"
    },
    "language_info": {
      "name": "python"
    }
  },
  "cells": [
    {
      "cell_type": "markdown",
      "metadata": {
        "id": "view-in-github",
        "colab_type": "text"
      },
      "source": [
        "<a href=\"https://colab.research.google.com/github/KuangZheLiu/Practice_project/blob/main/HW2.ipynb\" target=\"_parent\"><img src=\"https://colab.research.google.com/assets/colab-badge.svg\" alt=\"Open In Colab\"/></a>"
      ]
    },
    {
      "cell_type": "code",
      "execution_count": null,
      "metadata": {
        "id": "IW7iJVaau8s-",
        "colab": {
          "base_uri": "https://localhost:8080/",
          "height": 799
        },
        "outputId": "2f640765-778a-42f8-948f-1533bd437592"
      },
      "outputs": [
        {
          "output_type": "stream",
          "name": "stdout",
          "text": [
            "+------------------------------------------------------------------------------------------+------+\n",
            "| 名稱                                                                                     | 價格 |\n",
            "+------------------------------------------------------------------------------------------+------+\n",
            "| CB HTC Desire 626/626 G+/610/620/526G(5吋) 帥氣直立手機腰包皮套(TPU清水套或框殼都裝的下) | 490  |\n",
            "| HTC HC M232 原廠炫彩透背保護套                                                           | 490  |\n",
            "| HTC Magic一指無紋防眩光抗刮霧面貼+機身膜(贈拭鏡布+鏡頭膜)                                | 490  |\n",
            "| HTC Hero一指無紋防眩光抗刮霧面貼+機身膜(贈拭鏡布+鏡頭膜)                                 | 490  |\n",
            "| HTC Hero一指無紋防眩光抗刮霧面貼+機身膜(贈拭鏡布+鏡頭膜)                                 | 490  |\n",
            "| CB HTC One A9/M9/M9s/m9+/M8/M7(5吋) 帥氣直立手機腰包皮套(TPU清水套或框殼都裝的下)        | 490  |\n",
            "| HTC U19e 浪漫彩繪 水鑽空壓氣墊手機殼(幸福時刻)                                           | 490  |\n",
            "| CB HTC 820s/820G+(5.5吋) 帥氣直立手機腰包皮套(TPU清水套或框殼都裝的下)                   | 490  |\n",
            "| CB HTC One E9/E9+/Desire 826(5.5吋) 帥氣直立手機腰包皮套(TPU清水套或框殼都裝的下)        | 490  |\n",
            "| CITY for HTC U12 Life/SUGAR S20s/VIVO V9 帥氣直立手機腰包皮套                            | 490  |\n",
            "| HTC U20 2.5D滿版滿膠 彩框鋼化玻璃保護貼 9H 鋼化玻璃 9H 0.33mm 強化玻璃 全屏              | 490  |\n",
            "| CB HTC Butterfly S/Butterfly 2 (5吋) 帥氣直立手機腰包皮套(TPU清水套或框殼都裝的下)       | 490  |\n",
            "| HTC One S9 5吋 簡約風 運動臂套 運動臂帶 運動臂袋 運動 手機 保護套                        | 489  |\n",
            "| HTC 原廠 Desire20 Pro 原廠馬卡龍矽膠保護殼-紫 (公司貨-盒裝)                              | 488  |\n",
            "| EyeScreen 宏達電 HTC Butterfly 2 Everdry AGC 9H 0.28mm 業界首創半年保固 防爆強化玻璃     | 980  |\n",
            "| NISDA For HTC U12 Life 風格磨砂側翻皮套                                                  | 480  |\n",
            "| TYSON HTC Desire EYE 經典雙搭側翻支架皮套                                                | 478  |\n",
            "| 真皮系列 HTC One mini 2 (M8 mini) 腰夾式/穿帶式 橫式手機皮套                             | 450  |\n",
            "| 真皮系列 HTC One X9 腰夾式/穿帶式 橫式手機皮套                                           | 450  |\n",
            "| 真皮系列 HTC Desire 820 腰夾式/穿帶式 橫式手機皮套                                       | 450  |\n",
            "+------------------------------------------------------------------------------------------+------+\n"
          ]
        },
        {
          "output_type": "error",
          "ename": "KeyboardInterrupt",
          "evalue": "ignored",
          "traceback": [
            "\u001b[0;31m---------------------------------------------------------------------------\u001b[0m",
            "\u001b[0;31mKeyboardInterrupt\u001b[0m                         Traceback (most recent call last)",
            "\u001b[0;32m<ipython-input-4-c26ef3757d04>\u001b[0m in \u001b[0;36m<cell line: 30>\u001b[0;34m()\u001b[0m\n\u001b[1;32m     31\u001b[0m \u001b[0;34m\u001b[0m\u001b[0m\n\u001b[1;32m     32\u001b[0m   \u001b[0mpt\u001b[0m\u001b[0;34m.\u001b[0m\u001b[0mclear_rows\u001b[0m\u001b[0;34m(\u001b[0m\u001b[0;34m)\u001b[0m\u001b[0;34m\u001b[0m\u001b[0;34m\u001b[0m\u001b[0m\n\u001b[0;32m---> 33\u001b[0;31m   \u001b[0mp\u001b[0m \u001b[0;34m=\u001b[0m \u001b[0minput\u001b[0m\u001b[0;34m(\u001b[0m\u001b[0;34m\"前往頁碼:\"\u001b[0m\u001b[0;34m)\u001b[0m\u001b[0;34m\u001b[0m\u001b[0;34m\u001b[0m\u001b[0m\n\u001b[0m\u001b[1;32m     34\u001b[0m   \u001b[0mdp\u001b[0m\u001b[0;34m.\u001b[0m\u001b[0mclear_output\u001b[0m\u001b[0;34m(\u001b[0m\u001b[0;32mTrue\u001b[0m\u001b[0;34m)\u001b[0m\u001b[0;34m\u001b[0m\u001b[0;34m\u001b[0m\u001b[0m\n\u001b[1;32m     35\u001b[0m   r2 = requests.get(\"https://ecshweb.pchome.com.tw/search/v3.3/all/results\",\n",
            "\u001b[0;32m/usr/local/lib/python3.10/dist-packages/ipykernel/kernelbase.py\u001b[0m in \u001b[0;36mraw_input\u001b[0;34m(self, prompt)\u001b[0m\n\u001b[1;32m    849\u001b[0m                 \u001b[0;34m\"raw_input was called, but this frontend does not support input requests.\"\u001b[0m\u001b[0;34m\u001b[0m\u001b[0;34m\u001b[0m\u001b[0m\n\u001b[1;32m    850\u001b[0m             )\n\u001b[0;32m--> 851\u001b[0;31m         return self._input_request(str(prompt),\n\u001b[0m\u001b[1;32m    852\u001b[0m             \u001b[0mself\u001b[0m\u001b[0;34m.\u001b[0m\u001b[0m_parent_ident\u001b[0m\u001b[0;34m,\u001b[0m\u001b[0;34m\u001b[0m\u001b[0;34m\u001b[0m\u001b[0m\n\u001b[1;32m    853\u001b[0m             \u001b[0mself\u001b[0m\u001b[0;34m.\u001b[0m\u001b[0m_parent_header\u001b[0m\u001b[0;34m,\u001b[0m\u001b[0;34m\u001b[0m\u001b[0;34m\u001b[0m\u001b[0m\n",
            "\u001b[0;32m/usr/local/lib/python3.10/dist-packages/ipykernel/kernelbase.py\u001b[0m in \u001b[0;36m_input_request\u001b[0;34m(self, prompt, ident, parent, password)\u001b[0m\n\u001b[1;32m    893\u001b[0m             \u001b[0;32mexcept\u001b[0m \u001b[0mKeyboardInterrupt\u001b[0m\u001b[0;34m:\u001b[0m\u001b[0;34m\u001b[0m\u001b[0;34m\u001b[0m\u001b[0m\n\u001b[1;32m    894\u001b[0m                 \u001b[0;31m# re-raise KeyboardInterrupt, to truncate traceback\u001b[0m\u001b[0;34m\u001b[0m\u001b[0;34m\u001b[0m\u001b[0m\n\u001b[0;32m--> 895\u001b[0;31m                 \u001b[0;32mraise\u001b[0m \u001b[0mKeyboardInterrupt\u001b[0m\u001b[0;34m(\u001b[0m\u001b[0;34m\"Interrupted by user\"\u001b[0m\u001b[0;34m)\u001b[0m \u001b[0;32mfrom\u001b[0m \u001b[0;32mNone\u001b[0m\u001b[0;34m\u001b[0m\u001b[0;34m\u001b[0m\u001b[0m\n\u001b[0m\u001b[1;32m    896\u001b[0m             \u001b[0;32mexcept\u001b[0m \u001b[0mException\u001b[0m \u001b[0;32mas\u001b[0m \u001b[0me\u001b[0m\u001b[0;34m:\u001b[0m\u001b[0;34m\u001b[0m\u001b[0;34m\u001b[0m\u001b[0m\n\u001b[1;32m    897\u001b[0m                 \u001b[0mself\u001b[0m\u001b[0;34m.\u001b[0m\u001b[0mlog\u001b[0m\u001b[0;34m.\u001b[0m\u001b[0mwarning\u001b[0m\u001b[0;34m(\u001b[0m\u001b[0;34m\"Invalid Message:\"\u001b[0m\u001b[0;34m,\u001b[0m \u001b[0mexc_info\u001b[0m\u001b[0;34m=\u001b[0m\u001b[0;32mTrue\u001b[0m\u001b[0;34m)\u001b[0m\u001b[0;34m\u001b[0m\u001b[0;34m\u001b[0m\u001b[0m\n",
            "\u001b[0;31mKeyboardInterrupt\u001b[0m: Interrupted by user"
          ]
        }
      ],
      "source": [
        "import requests\n",
        "import json\n",
        "import prettytable\n",
        "import IPython.display as dp\n",
        "\n",
        "# PrettyTable表格 encoding=\"編碼方式\"\n",
        "pt = prettytable.PrettyTable([\"名稱\", \"價格\"], encoding = \"UTF-8\")\n",
        "# 對齊\n",
        "pt.align[\"名稱\"]=\"l\"\n",
        "pt.align[\"價格\"]=\"l\"\n",
        "\n",
        "q = input(\"關鍵字:\")\n",
        "dp.clear_output(True)\n",
        "\n",
        "r1 = requests.get(\"https://ecshweb.pchome.com.tw/search/v3.3/all/results\",\n",
        "          headers = {\n",
        "              \"User-Agent\":\"Mozilla/5.0 (Windows NT 10.0; Win64; x64) AppleWebKit/537.36 (KHTML, like Gecko) Chrome/114.0.0.0 Safari/537.36\"},\n",
        "          params = {\n",
        "              \"q\":q,\n",
        "              \"page\":\"1\",\n",
        "              \"sort\":\"r\"})\n",
        "\n",
        "data = json.loads(r1.text)\n",
        "# print(data)\n",
        "for d in data[\"prods\"]:\n",
        "  pt.add_row([d[\"name\"],d[\"originPrice\"]])\n",
        "\n",
        "print(pt)\n",
        "\n",
        "while not q == 0:\n",
        "\n",
        "  pt.clear_rows()\n",
        "  p = input(\"前往頁碼:\")\n",
        "  dp.clear_output(True)\n",
        "  r2 = requests.get(\"https://ecshweb.pchome.com.tw/search/v3.3/all/results\",\n",
        "          headers = {\n",
        "              \"User-Agent\":\"Mozilla/5.0 (Windows NT 10.0; Win64; x64) AppleWebKit/537.36 (KHTML, like Gecko) Chrome/114.0.0.0 Safari/537.36\"},\n",
        "          params = {\n",
        "              \"q\":q,\n",
        "              \"page\":p,\n",
        "              \"sort\":\"r\"})\n",
        "\n",
        "  data2 = json.loads(r2.text)\n",
        "  for d2 in data2[\"prods\"]:\n",
        "    pt.add_row([d2[\"name\"],d2[\"originPrice\"]])\n",
        "  print(pt)"
      ]
    }
  ]
}