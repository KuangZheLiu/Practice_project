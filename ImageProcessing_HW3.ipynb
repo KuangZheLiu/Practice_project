{
  "nbformat": 4,
  "nbformat_minor": 0,
  "metadata": {
    "colab": {
      "provenance": [],
      "authorship_tag": "ABX9TyMVQ6Q9803jHetWP3Uoqitm",
      "include_colab_link": true
    },
    "kernelspec": {
      "name": "python3",
      "display_name": "Python 3"
    },
    "language_info": {
      "name": "python"
    }
  },
  "cells": [
    {
      "cell_type": "markdown",
      "metadata": {
        "id": "view-in-github",
        "colab_type": "text"
      },
      "source": [
        "<a href=\"https://colab.research.google.com/github/KuangZheLiu/Practice_project/blob/main/ImageProcessing_HW3.ipynb\" target=\"_parent\"><img src=\"https://colab.research.google.com/assets/colab-badge.svg\" alt=\"Open In Colab\"/></a>"
      ]
    },
    {
      "cell_type": "code",
      "execution_count": null,
      "metadata": {
        "id": "BED8tIjfIAjO"
      },
      "outputs": [],
      "source": [
        "import cv2\n",
        "import numpy as np\n",
        "import IPython.display as dp\n",
        "from google.colab.patches import cv2_imshow\n",
        "from PIL import ImageFont, ImageDraw, Image\n",
        "\n",
        "# 影片讀取\n",
        "v_in = cv2.VideoCapture(\"h3.mp4\")\n",
        "while v_in.isOpened():\n",
        "  ret,img_v = v_in.read()\n",
        "  img_out = img_v.copy()\n",
        "\n",
        "  if ret == True and int(v_in.get(1))!=100:\n",
        "  # if ret == True :\n",
        "\n",
        "    # img_g = cv2.cvtColor(img_v, cv2.COLOR_BGR2GRAY)\n",
        "\n",
        "    img_v = cv2.dilate(img_v, np.ones((5,15)))\n",
        "    img_v = cv2.erode(img_v, np.ones((5,15)))\n",
        "\n",
        "    # img_b = cv2.inRange(img_e, 0, 80)\n",
        "    img_b = cv2.inRange(img_v, (60,30,30), (255,110,80))\n",
        "\n",
        "    point, data = cv2.findContours(img_b, cv2.RETR_TREE, cv2.CHAIN_APPROX_NONE)\n",
        "    for i in range(0, len(point)):\n",
        "      x, y, w, h = cv2.boundingRect(point[i])\n",
        "      cv2.rectangle(img_out, (x, y), (x+w, y+h), (0, 0, 255), 2)\n",
        "\n",
        "    cv2_imshow(img_out)\n",
        "  else:\n",
        "    break"
      ]
    },
    {
      "cell_type": "code",
      "source": [
        "import cv2\n",
        "import numpy as np\n",
        "import IPython.display as dp\n",
        "from google.colab.patches import cv2_imshow\n",
        "from PIL import ImageFont, ImageDraw, Image\n",
        "\n",
        "# 影片讀取\n",
        "v_in = cv2.VideoCapture(\"h3.mp4\")\n",
        "while v_in.isOpened():\n",
        "  ret,img_v = v_in.read()\n",
        "  img_out = img_v.copy()\n",
        "\n",
        "  if ret == True :\n",
        "\n",
        "    # img_g = cv2.cvtColor(img_v, cv2.COLOR_BGR2GRAY)\n",
        "\n",
        "    img_v = cv2.dilate(img_v, np.ones((5,15)))\n",
        "    img_v = cv2.erode(img_v, np.ones((5,15)))\n",
        "\n",
        "    # img_b = cv2.inRange(img_e, 0, 80)\n",
        "    img_b = cv2.inRange(img_v, (70,20,5), (255,120,70))\n",
        "\n",
        "    point, data = cv2.findContours(img_b, cv2.RETR_TREE, cv2.CHAIN_APPROX_NONE)\n",
        "    for i in range(0, len(point)):\n",
        "      x, y, w, h = cv2.boundingRect(point[i])\n",
        "      cv2.rectangle(img_out, (x, y), (x+w, y+h), (0, 0, 255), 2)\n",
        "\n",
        "    cv2_imshow(img_out)\n",
        "    dp.clear_output(wait=True)\n",
        "    time.sleep(0.3)\n",
        "  else:\n",
        "    break"
      ],
      "metadata": {
        "id": "QnQ5dnR8PuIX"
      },
      "execution_count": null,
      "outputs": []
    }
  ]
}