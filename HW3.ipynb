{
  "nbformat": 4,
  "nbformat_minor": 0,
  "metadata": {
    "colab": {
      "provenance": [],
      "authorship_tag": "ABX9TyMTKXogGTK2eOQW+o8Ni/wr",
      "include_colab_link": true
    },
    "kernelspec": {
      "name": "python3",
      "display_name": "Python 3"
    },
    "language_info": {
      "name": "python"
    }
  },
  "cells": [
    {
      "cell_type": "markdown",
      "metadata": {
        "id": "view-in-github",
        "colab_type": "text"
      },
      "source": [
        "<a href=\"https://colab.research.google.com/github/KuangZheLiu/Practice_project/blob/main/HW3.ipynb\" target=\"_parent\"><img src=\"https://colab.research.google.com/assets/colab-badge.svg\" alt=\"Open In Colab\"/></a>"
      ]
    },
    {
      "cell_type": "code",
      "execution_count": null,
      "metadata": {
        "id": "36zHdZ4t9n2B"
      },
      "outputs": [],
      "source": [
        "from bs4 import BeautifulSoup\n",
        "import requests\n",
        "import prettytable\n",
        "\n",
        "pt = prettytable.PrettyTable([\"地區\", \"氣溫\"], encoding = \"UTF-8\")\n",
        "pt.align[\"地區\"]=\"l\"\n",
        "pt.align[\"氣溫\"]=\"l\"\n",
        "\n",
        "r1 = requests.get(\"https://www.cwb.gov.tw/V8/C/W/TemperatureTop/County_TMax_T.html\",\n",
        "    headers = {\n",
        "          \"User-Agent\":\"Mozilla/5.0 (Windows NT 10.0; Win64; x64) AppleWebKit/537.36 (KHTML, like Gecko) Chrome/114.0.0.0 Safari/537.36\"},\n",
        "    params={\"ID\":\"989\"})\n",
        "\n",
        "p1 = BeautifulSoup(r1.text, \"html.parser\")\n",
        "\n",
        "for d1 in p1.find_all(\"tr\"):\n",
        "  city = d1.find(\"th\", {\"scope\":\"row\"}).text\n",
        "  tem = d1.find(\"span\").text\n",
        "  pt.add_row([city,tem])\n",
        "\n",
        "print(pt)"
      ]
    }
  ]
}