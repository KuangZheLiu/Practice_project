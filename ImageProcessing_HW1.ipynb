{
  "nbformat": 4,
  "nbformat_minor": 0,
  "metadata": {
    "colab": {
      "provenance": [],
      "authorship_tag": "ABX9TyN9LwxR0yw7KaPGejZ3BtIg",
      "include_colab_link": true
    },
    "kernelspec": {
      "name": "python3",
      "display_name": "Python 3"
    },
    "language_info": {
      "name": "python"
    }
  },
  "cells": [
    {
      "cell_type": "markdown",
      "metadata": {
        "id": "view-in-github",
        "colab_type": "text"
      },
      "source": [
        "<a href=\"https://colab.research.google.com/github/KuangZheLiu/Practice_project/blob/main/ImageProcessing_HW1.ipynb\" target=\"_parent\"><img src=\"https://colab.research.google.com/assets/colab-badge.svg\" alt=\"Open In Colab\"/></a>"
      ]
    },
    {
      "cell_type": "code",
      "execution_count": null,
      "metadata": {
        "id": "68GXBxtXxN8X"
      },
      "outputs": [],
      "source": [
        "import cv2\n",
        "import numpy as np\n",
        "import IPython.display as dp\n",
        "from google.colab.patches import cv2_imshow\n",
        "from PIL import ImageFont, ImageDraw, Image\n",
        "import time\n",
        "\n",
        "con = 0\n",
        "\n",
        "while not con == None:\n",
        "  while con == 0:\n",
        "    for x in range(0,510,10):\n",
        "      img = np.full((350, 600, 3), (200, 200, 200), np.uint8)\n",
        "      cv2.rectangle(img, (0+x, 120), (100+x, 220), (255, 0, 0), -1)\n",
        "      cv2_imshow(img)\n",
        "      dp.clear_output(True)\n",
        "      time.sleep(0.2)\n",
        "      con += 1\n",
        "  while con == 51:\n",
        "    for x2 in range(500,-10,-10):\n",
        "      img = np.full((350, 600, 3), (200, 200, 200), np.uint8)\n",
        "      cv2.rectangle(img, (0+x2, 120), (100+x2, 220), (255, 0, 0), -1)\n",
        "      cv2_imshow(img)\n",
        "      dp.clear_output(True)\n",
        "      time.sleep(0.2)\n",
        "      con -= 1"
      ]
    }
  ]
}