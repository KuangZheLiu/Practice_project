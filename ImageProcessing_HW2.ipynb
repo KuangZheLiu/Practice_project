{
  "nbformat": 4,
  "nbformat_minor": 0,
  "metadata": {
    "colab": {
      "provenance": [],
      "authorship_tag": "ABX9TyOjJnV12SGp/LaXEtiCRwBH",
      "include_colab_link": true
    },
    "kernelspec": {
      "name": "python3",
      "display_name": "Python 3"
    },
    "language_info": {
      "name": "python"
    }
  },
  "cells": [
    {
      "cell_type": "markdown",
      "metadata": {
        "id": "view-in-github",
        "colab_type": "text"
      },
      "source": [
        "<a href=\"https://colab.research.google.com/github/KuangZheLiu/Practice_project/blob/main/ImageProcessing_HW2.ipynb\" target=\"_parent\"><img src=\"https://colab.research.google.com/assets/colab-badge.svg\" alt=\"Open In Colab\"/></a>"
      ]
    },
    {
      "cell_type": "code",
      "execution_count": null,
      "metadata": {
        "id": "Xh3xoGVMd7OG"
      },
      "outputs": [],
      "source": [
        "import cv2\n",
        "import numpy as np\n",
        "import IPython.display as dp\n",
        "from google.colab.patches import cv2_imshow\n",
        "from PIL import ImageFont, ImageDraw, Image\n",
        "\n",
        "img = cv2.imread(\"h2.png\", 1)\n",
        "\n",
        "img_2 = cv2.subtract(img, (0,0,255,0))\n",
        "img_3 = cv2.multiply(img_2, (255,255,255,0))\n",
        "img_4 = cv2.add(img_3, (255,0,255,0))\n",
        "\n",
        "cv2_imshow(img_4[:,:,1])"
      ]
    }
  ]
}